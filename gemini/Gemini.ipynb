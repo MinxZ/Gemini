{
 "cells": [
  {
   "cell_type": "code",
   "execution_count": 2,
   "id": "a133c424",
   "metadata": {},
   "outputs": [],
   "source": [
    "import os\n",
    "import random\n",
    "import time\n",
    "\n",
    "import numpy as np\n",
    "import torch\n",
    "\n",
    "from func import out_string_nets, textread\n",
    "from mashup import load_multi, mashup, mashup_multi\n",
    "\n",
    "torch.manual_seed(1)\n",
    "random.seed(1)\n",
    "np.random.seed(1)"
   ]
  },
  {
   "cell_type": "markdown",
   "id": "c03b488c",
   "metadata": {},
   "source": [
    "# Load config"
   ]
  },
  {
   "cell_type": "code",
   "execution_count": null,
   "id": "83bf0d96",
   "metadata": {},
   "outputs": [],
   "source": [
    "# wrtie some function to load config\n",
    "\n",
    "org = args.org\n",
    "net = args.net\n",
    "method = args.method\n",
    "\n",
    "\n",
    "mixup = True\n",
    "ndim = args.ndim\n",
    "\n",
    "torch_thread = args.torch_thread\n",
    "num_thread = args.num_thread"
   ]
  },
  {
   "cell_type": "markdown",
   "id": "7a13101b",
   "metadata": {},
   "source": [
    "# Load data"
   ]
  },
  {
   "cell_type": "code",
   "execution_count": null,
   "id": "bde5f6c2",
   "metadata": {},
   "outputs": [],
   "source": [
    "string_nets = out_string_nets(net, org)\n",
    "\n",
    "network_files = []\n",
    "for i in range(len(string_nets)):\n",
    "    network_files.append(\n",
    "        f'data/networks/{org}/{org}_string_{string_nets[i]}_adjacency.txt')\n",
    "\n",
    "# Load gene list\n",
    "gene_file = f'data/networks/{org}/{org}_{net}_genes.txt'\n",
    "genes = textread(gene_file)\n",
    "ngene = len(genes)"
   ]
  },
  {
   "cell_type": "markdown",
   "id": "b5518ed7",
   "metadata": {},
   "source": [
    "# Gemini"
   ]
  },
  {
   "cell_type": "code",
   "execution_count": null,
   "id": "d55147e2",
   "metadata": {},
   "outputs": [],
   "source": [
    "# Network integration\n",
    "# not finished \n",
    "\n",
    "start_time = time.time()\n",
    "print(f'{method}_{org}_{net}_{ndim}')\n",
    "print('[Mashup]')\n",
    "\n",
    "embd_name = f'data/embed/{method}_{org}_{net}_{ndim}'\n",
    "\n",
    "node_weights = None\n",
    "\n",
    "weights = np.zeros(len(network_files))\n",
    "embed_type = args.embed_type:\n",
    "axis = 1\n",
    "separate = np.load(\n",
    "    f'data/separate/{net}_{org}_type0_' +\n",
    "    f'{embed_type}{axis}_{args.cluster_method}_' +\n",
    "    f'{args.level}.npy')\n",
    "if args.weight == 2:\n",
    "    clus_count = np.ones(len(set(separate)))\n",
    "elif args.weight == 1:\n",
    "    clus_count = np.zeros(len(set(separate)))\n",
    "separate = separate[:len(network_files)]\n",
    "for i in separate:\n",
    "    clus_count[i] += 1\n",
    "if args.weight == 2:\n",
    "    clus_weight = 1/clus_count + \\\n",
    "        args.ori_weight/len(network_files)\n",
    "elif args.weight == 1:\n",
    "    clus_weight = 1/clus_count\n",
    "weights += np.array([clus_weight[i] for i in separate])\n",
    "\n",
    "\n",
    "embd_name += f'_{args.embed_type}{args.axis}_' + \\\n",
    "    f'separate{args.separate}_{args.cluster_method}' + \\\n",
    "    f'_weight{args.weight}_{args.ori_weight}'\n",
    "args.separate = None\n",
    "print(args.level)\n",
    "embd_name += f'_{args.level}'\n",
    "\n",
    "if args.mixup > 0:\n",
    "    network_pairs_mixup_ = []\n",
    "    from numpy.random import choice\n",
    "    random.seed(1)\n",
    "    print(args.ndim)\n",
    "    # np.random.seed(1)\n",
    "    p = weights\n",
    "    p = p/p.sum()\n",
    "    list_of_candidates = np.arange(len(network_files))\n",
    "    for idd in range(args.mixup):\n",
    "        network_pairs_mixup = []\n",
    "        args.ori_seed = int(np.floor(args.ori_seed*10000)/10000)\n",
    "        np.random.seed(idd+args.ori_seed)\n",
    "        for _ in range(round(len(network_files)*args.mixup2)):\n",
    "            # for ixd in range(args.mixup):\n",
    "            draw = choice(list_of_candidates, 2,\n",
    "                          p=p)\n",
    "            d0, d1 = draw[0], draw[1]\n",
    "            # if separate[d0] != separate[d1]:\n",
    "            n0 = network_files[d0]\n",
    "            n1 = network_files[d1]\n",
    "            network_pairs_mixup.append([n0, 1, n1, 1])\n",
    "        network_pairs_mixup_.append(network_pairs_mixup)\n",
    "    mixup = 'mixup'\n",
    "    embd_name += f'_mixup{args.mixup}_{args.mixup2}'\n",
    "    embd_name += f'_gamma{args.gamma}'\n",
    "    network_files_all = network_pairs_mixup_"
   ]
  }
 ],
 "metadata": {
  "kernelspec": {
   "display_name": "Python 3 (ipykernel)",
   "language": "python",
   "name": "python3"
  },
  "language_info": {
   "codemirror_mode": {
    "name": "ipython",
    "version": 3
   },
   "file_extension": ".py",
   "mimetype": "text/x-python",
   "name": "python",
   "nbconvert_exporter": "python",
   "pygments_lexer": "ipython3",
   "version": "3.9.12"
  }
 },
 "nbformat": 4,
 "nbformat_minor": 5
}
