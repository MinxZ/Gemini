{
 "cells": [
  {
   "cell_type": "markdown",
   "id": "bbee12dd",
   "metadata": {},
   "source": [
    "# Notebook to reproduce figure 4"
   ]
  },
  {
   "cell_type": "code",
   "execution_count": 1,
   "id": "e6185778",
   "metadata": {},
   "outputs": [],
   "source": [
    "import os\n",
    "import sys\n",
    "import json\n",
    "\n",
    "import matplotlib.pyplot as plt\n",
    "import numpy as np\n",
    "import pandas as pd\n",
    "from matplotlib.ticker import FormatStrFormatter\n",
    "\n",
    "sys.path.append(os.path.join(sys.path[0], '../'))\n",
    "from plot import plot_settings, plot_utils\n",
    "from config import GEMINI_DIR"
   ]
  },
  {
   "cell_type": "code",
   "execution_count": null,
   "id": "ff122816",
   "metadata": {},
   "outputs": [],
   "source": []
  },
  {
   "cell_type": "code",
   "execution_count": 2,
   "id": "e5a6e603",
   "metadata": {},
   "outputs": [],
   "source": [
    "fig_dir = 'figure/fig4/' # move my figures here\n",
    "if not os.path.exists(fig_dir):\n",
    "    os.makedirs(fig_dir)"
   ]
  },
  {
   "cell_type": "code",
   "execution_count": null,
   "id": "5298297a",
   "metadata": {},
   "outputs": [],
   "source": []
  },
  {
   "cell_type": "markdown",
   "id": "d2b3d8f1",
   "metadata": {},
   "source": [
    "# Load results"
   ]
  },
  {
   "cell_type": "code",
   "execution_count": 3,
   "id": "fe5fc08c",
   "metadata": {},
   "outputs": [],
   "source": [
    "def parse_performance(fname):\n",
    "    f1 = None\n",
    "    micro = None\n",
    "    macro = None\n",
    "    with open(fname, 'r') as f:\n",
    "        for line in f.readlines():\n",
    "            line = line.strip().split()\n",
    "            if 'F1:' in line:\n",
    "                f1 = (float(line[1]), float(line[-1][:-1]))\n",
    "            elif 'MAPRC:' in line:\n",
    "                macro = (float(line[1]), float(line[-1][:-1]))\n",
    "            elif 'AUPRC:' in line:\n",
    "                micro = (float(line[1]), float(line[-1][:-1]))\n",
    "    assert f1 is not None and micro is not None and macro is not None, \"{}, {}, {}\".format(f1, micro, macro)\n",
    "    return f1, micro, macro"
   ]
  },
  {
   "cell_type": "code",
   "execution_count": 4,
   "id": "fccb4f8a",
   "metadata": {},
   "outputs": [],
   "source": [
    "mixups = [0.03125, 0.0625, 0.125, 0.25, 0.5, 1.0, 2.0]\n",
    "M_total = {'yeast': 505, 'human': 895, 'mouse': 403}\n",
    "\n",
    "results_ablate_K = {org: {\n",
    "    'input_networks': [], 'f1_mean': [], 'f1_std': [], 'micro_mean': [], 'micro_std': [],\n",
    "    'macro_mean': [], 'macro_std': []} for org in ['yeast', 'human', 'mouse']}\n",
    "for K in mixups:\n",
    "    for org in ['yeast', 'human', 'mouse']:\n",
    "        f1, mic, mac = parse_performance(GEMINI_DIR + 'results/BioGrid/GEMINI/K_{}_{}.txt'.format(K, org))\n",
    "        results_ablate_K[org]['input_networks'].append(K*M_total[org])\n",
    "        results_ablate_K[org]['f1_mean'].append(f1[0])\n",
    "        results_ablate_K[org]['f1_std'].append(f1[1])\n",
    "        results_ablate_K[org]['micro_mean'].append(mic[0])\n",
    "        results_ablate_K[org]['micro_std'].append(mic[1])\n",
    "        results_ablate_K[org]['macro_mean'].append(mac[0])\n",
    "        results_ablate_K[org]['macro_std'].append(mac[1])"
   ]
  },
  {
   "cell_type": "code",
   "execution_count": 5,
   "id": "5cbe8251",
   "metadata": {},
   "outputs": [],
   "source": [
    "moments = [1,2,3,4]\n",
    "results_ablate_moment = {org: {\n",
    "    'pooling_moment': [], 'f1_mean': [], 'f1_std': [], 'micro_mean': [], 'micro_std': [],\n",
    "    'macro_mean': [], 'macro_std': []} for org in ['yeast', 'human', 'mouse']}\n",
    "for mom in moments:\n",
    "    for org in ['yeast', 'human', 'mouse']:\n",
    "        f1, mic, mac = parse_performance(GEMINI_DIR + 'results/BioGrid/GEMINI/moment_{}_{}.txt'.format(mom, org))\n",
    "        results_ablate_moment[org]['pooling_moment'].append(mom)\n",
    "        results_ablate_moment[org]['f1_mean'].append(f1[0])\n",
    "        results_ablate_moment[org]['f1_std'].append(f1[1])\n",
    "        results_ablate_moment[org]['micro_mean'].append(mic[0])\n",
    "        results_ablate_moment[org]['micro_std'].append(mic[1])\n",
    "        results_ablate_moment[org]['macro_mean'].append(mac[0])\n",
    "        results_ablate_moment[org]['macro_std'].append(mac[1])"
   ]
  },
  {
   "cell_type": "code",
   "execution_count": 6,
   "id": "a2f447fc",
   "metadata": {},
   "outputs": [],
   "source": [
    "mashup_comparisons = {org: {\n",
    "    'f1_mean': [], 'f1_std': [], 'micro_mean': [], 'micro_std': [],\n",
    "    'macro_mean': [], 'macro_std': []} for org in ['yeast', 'human', 'mouse']}\n",
    "for org in ['yeast', 'mouse', 'human']:\n",
    "    f1, mic, mac = parse_performance(GEMINI_DIR + 'results/BioGrid/MASHUP/{}.txt'.format(org))\n",
    "    mashup_comparisons[org]['f1_mean'].append(f1[0])\n",
    "    mashup_comparisons[org]['f1_std'].append(f1[1])\n",
    "    mashup_comparisons[org]['micro_mean'].append(mic[0])\n",
    "    mashup_comparisons[org]['micro_std'].append(mic[1])\n",
    "    mashup_comparisons[org]['macro_mean'].append(mac[0])\n",
    "    mashup_comparisons[org]['macro_std'].append(mac[1])"
   ]
  },
  {
   "cell_type": "code",
   "execution_count": null,
   "id": "d4e8dfd8",
   "metadata": {},
   "outputs": [],
   "source": []
  },
  {
   "cell_type": "markdown",
   "id": "e00d7a9b",
   "metadata": {},
   "source": [
    "# Make the plots"
   ]
  },
  {
   "cell_type": "code",
   "execution_count": 7,
   "id": "867a3361",
   "metadata": {},
   "outputs": [
    {
     "name": "stderr",
     "output_type": "stream",
     "text": [
      "findfont: Font family ['Helvetica'] not found. Falling back to DejaVu Sans.\n",
      "findfont: Font family ['Helvetica'] not found. Falling back to DejaVu Sans.\n"
     ]
    },
    {
     "data": {
      "image/png": "[encoded data removed]",
      "text/plain": [
       "<Figure size 576x288 with 1 Axes>"
      ]
     },
     "metadata": {
      "needs_background": "light"
     },
     "output_type": "display_data"
    }
   ],
   "source": [
    "%matplotlib inline\n",
    "\n",
    "ax = plot_settings.get_wider_axis(1.7)\n",
    "for org in ['yeast', 'mouse', 'human']:\n",
    "    plot_utils.line_plot(ax, np.asarray(results_ablate_K[org]['micro_mean']), xlabel='', \n",
    "                         ylabel=plot_settings.get_metric_name('micro AUPRC'),\n",
    "                         xdata=results_ablate_K[org]['input_networks'], max_time=None, invert_axes=False,\n",
    "                         color=plot_settings.get_species_color(org), linestyle='solid', label_marker=None, \n",
    "                         linewidth=1, alpha=0.3, std=np.asarray(results_ablate_K[org]['micro_std'])/np.sqrt(5))\n",
    "    plot_utils.scatter_plot(ax, [M_total[org]], mashup_comparisons[org]['micro_mean'], xlabel='',\n",
    "                            ylabel=plot_settings.get_metric_name('micro AUPRC'),\n",
    "                            color=plot_settings.get_species_color(org), style='*', size=40)\n",
    "\n",
    "ax.set_ylim(0.2, 0.7)\n",
    "ax.set_xticks([0, 500, 1000, 1500])\n",
    "\n",
    "orgs = ['yeast', 'mouse', 'human']\n",
    "lp = lambda i: plt.plot([],[],color=plot_settings.get_species_color(orgs[i]), ms=30, mec=\"none\",\n",
    "                        label='{} (Gemini)'.format(orgs[i]), ls=\"solid\")[0]#, marker='solid')[0]\n",
    "handles = [lp(i) for i in range(len(orgs))]\n",
    "lp2 = lambda i: plt.plot([],[],color=plot_settings.get_species_color(orgs[i]), ms=15, mec=\"none\",\n",
    "                        label='{} (Mashup)'.format(orgs[i]), ls=\"\", marker='*')[0]\n",
    "handles += [lp2(i) for i in range(len(orgs))]\n",
    "    \n",
    "plot_utils.format_legend(ax, handles, ['{} (Gemini)'.format(org) for _ in range(3)] +\\\n",
    "                        ['{} (Mashup)'.format(org) for _ in range(3)])\n",
    "plot_utils.put_legend_outside_plot(ax)\n",
    "plot_utils.format_ax(ax)\n",
    "plt.tight_layout()\n",
    "plt.savefig(fig_dir + 'figure4_c.pdf')"
   ]
  },
  {
   "cell_type": "code",
   "execution_count": 8,
   "id": "62f5bba5",
   "metadata": {},
   "outputs": [
    {
     "data": {
      "image/png": "[encoded data removed]",
      "text/plain": [
       "<Figure size 432x288 with 1 Axes>"
      ]
     },
     "metadata": {
      "needs_background": "light"
     },
     "output_type": "display_data"
    }
   ],
   "source": [
    "%matplotlib inline\n",
    "ax = plot_settings.get_wider_axis()\n",
    "\n",
    "org_ordering = ['mouse', 'human', 'yeast']\n",
    "means = []\n",
    "std_errs = []\n",
    "for org in org_ordering:\n",
    "    org_means = []\n",
    "    org_serrs = []\n",
    "    org_means.extend(mashup_comparisons[org]['f1_mean'])\n",
    "    org_serrs.extend(mashup_comparisons[org]['f1_std'])\n",
    "    for moment in range(4):\n",
    "        org_means.append(results_ablate_moment[org]['f1_mean'][moment])\n",
    "        org_serrs.append(results_ablate_moment[org]['f1_std'][moment] / np.sqrt(5))\n",
    "    means.append(np.asarray(org_means))\n",
    "    std_errs.append(np.asarray(org_serrs))\n",
    "\n",
    "\n",
    "moment_ordering = ['mashup'] + list(range(1, 5))\n",
    "plot_utils.grouped_barplot(ax, np.asarray(means), data_labels=[org[0].upper() + org[1:] for org in org_ordering],\n",
    "                           xlabel='', ylabel=plot_settings.get_metric_name('max f1'), min_val=0.3,\n",
    "                           nested_color=[plot_settings.get_moment_colors(m) for m in moment_ordering],\n",
    "                           color_legend=[plot_settings.get_moment_naming(m) for m in moment_ordering],\n",
    "                           nested_errs=np.asarray(std_errs), tickloc_top=False, rotangle=0)\n",
    "ax.yaxis.set_ticks([0.3, 0.4, 0.5, 0.6])\n",
    "plot_utils.format_legend(ax, *ax.get_legend_handles_labels())\n",
    "plot_utils.put_legend_outside_plot(ax)\n",
    "plot_utils.format_ax(ax)\n",
    "plt.tight_layout()\n",
    "plt.savefig(fig_dir + 'figure4_d.pdf')"
   ]
  },
  {
   "cell_type": "code",
   "execution_count": null,
   "id": "80b78a52",
   "metadata": {},
   "outputs": [],
   "source": []
  }
 ],
 "metadata": {
  "kernelspec": {
   "display_name": "Python 3 (ipykernel)",
   "language": "python",
   "name": "python3"
  },
  "language_info": {
   "codemirror_mode": {
    "name": "ipython",
    "version": 3
   },
   "file_extension": ".py",
   "mimetype": "text/x-python",
   "name": "python",
   "nbconvert_exporter": "python",
   "pygments_lexer": "ipython3",
   "version": "3.9.7"
  }
 },
 "nbformat": 4,
 "nbformat_minor": 5
}
